{
 "cells": [
  {
   "cell_type": "code",
   "execution_count": 38,
   "metadata": {},
   "outputs": [
    {
     "name": "stdout",
     "output_type": "stream",
     "text": [
      "[9.316227766016837, 8.689829951795637, 8.115632131816518, 7.588948404239157, 7.105534024179296, 6.66154269753696, 6.2534880732215505, 5.878209017633218, 5.532838296683052, 5.214774327925408, 4.921655698946633, 4.651338178377328, 4.401873973104215, 4.171493009753866, 3.9585860405746542, 3.761689393699326, 3.579471205647849, 3.4107189900262957, 3.254328410870214, 3.1092931421302232] 112.68676587630847\n"
     ]
    }
   ],
   "source": [
    "xi_values = []\n",
    "xi = 10\n",
    "\n",
    "for k in range(20): \n",
    "    \n",
    "    dt = 0.1\n",
    "    change = -(xi)+(xi)**(.5)\n",
    "    equation = xi + (change*dt)\n",
    "    \n",
    "    xi_values.append(equation)\n",
    "    xi = equation \n",
    "   \n",
    "integral = sum(xi_values)+xi\n",
    "print(xi_values, integral)"
   ]
  },
  {
   "cell_type": "code",
   "execution_count": null,
   "metadata": {},
   "outputs": [],
   "source": []
  },
  {
   "cell_type": "code",
   "execution_count": null,
   "metadata": {},
   "outputs": [],
   "source": []
  }
 ],
 "metadata": {
  "kernelspec": {
   "display_name": "Python 3",
   "language": "python",
   "name": "python3"
  },
  "language_info": {
   "codemirror_mode": {
    "name": "ipython",
    "version": 3
   },
   "file_extension": ".py",
   "mimetype": "text/x-python",
   "name": "python",
   "nbconvert_exporter": "python",
   "pygments_lexer": "ipython3",
   "version": "3.7.0"
  }
 },
 "nbformat": 4,
 "nbformat_minor": 2
}
