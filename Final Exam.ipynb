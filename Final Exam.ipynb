{
 "cells": [
  {
   "cell_type": "code",
   "execution_count": 92,
   "metadata": {},
   "outputs": [],
   "source": [
    "import numpy as np\n",
    "import pylab as py\n",
    "import matplotlib.pyplot as plt\n",
    "import math"
   ]
  },
  {
   "cell_type": "markdown",
   "metadata": {},
   "source": [
    "### 1) (10 Points) Identify each type of plot below as a solution plot, slope direction field, dv 𝑣𝑠 𝑣 plot, or phase portrait based on its behavior. Based on the type of plot, label the axes, equilibria, any limit cycles, and whether the equilibria and limit cycles are stable or unstable. If a system is 2 dimensional, assume that the dependent variables are 𝑣 and 𝑤, where 𝑣 is membrane potential, and 𝑤 is a recovery variable. (2 Points per plot)"
   ]
  },
  {
   "cell_type": "markdown",
   "metadata": {},
   "source": [
    "### ANSWER\n",
    "A: Phase portrait with two heteroclinic orbits. y-axis is w, x-axis is v, 2 stable equilibria, and two unstable\n",
    "\n",
    "B: Solution plot, 2 stable and one unstable equilibria, y-axis is voltage, and x-axis is time \n",
    "\n",
    "C: Phase portrait, stable homoclinic limit cycle, equilibria is unstable, y-axis is w, x-axis is v \n",
    "\n",
    "D: dv/dt vs v plot, 1 stable and 2 unstable equilibria, y-axis is dv/dt, x-axis is t \n",
    "\n",
    "E: Slope direction field, 1 stable and 2 unstable equilibria, y-axis is dv/dt, x-axis is t \n"
   ]
  },
  {
   "cell_type": "markdown",
   "metadata": {},
   "source": [
    "### 2) (5 Points) A doctor in your town is interested in using fully connected artificial neural networks to determine whether a set of symptoms suggests that a patient has COVID 19, flu, or the common cold. Based on the past few months, they have several case files that indicate the symptoms someone presented with, and whether or not they were indeed infected with COVID 19. The symptoms of interest include fever, tiredness, dry cough, aches, and loss of taste/smell. The network will have 2 hidden layers, with 6 neurons in the first hidden layer and 4 neurons in the second hidden layer \n",
    "\n",
    "a. What is the TOTAL number of layers in the network? (1 point)\n",
    "\n",
    "b. Sketch the network architecture. You DO NOT need to connect different nodes to eachother with lines. You DO need to label the inputs and the outputs. (0.5 Points) \n",
    "\n",
    "c. What is the size of the weighting matrix that connects the first two layers? (1 point) \n",
    "\n",
    "d. What is the size of the weighting matrix that connects the hidden layers? (1 point) \n",
    "\n",
    "e. The doctor suggested using unsupervised learning to train the network.  Is this an appropriate approach given the data? Why or why not? (1.5 Points)"
   ]
  },
  {
   "cell_type": "markdown",
   "metadata": {},
   "source": [
    "### ANSWER\n",
    "a.) 4 (input later, 2 hidden layers, and output layer)\n",
    "\n",
    "b.) 5 inputs, 6 neurons in hidden layer, 4 in second hidden layer, and 3 in output layer\n",
    "\n",
    "c.) 6x5\n",
    "\n",
    "d.) 4x6\n",
    "\n",
    "e.) No, supervised learning would be better because we know which symptoms go with each illness"
   ]
  },
  {
   "cell_type": "markdown",
   "metadata": {},
   "source": [
    "### 3) (8 Points) For the following phase planes, identify the following \n",
    "\n",
    "a. Whether the equilibria are stable or unstable (1 point each)\n",
    "\n",
    "b. Whether the system is a nodal sink, nodal source, spiral sink, spiral source, saddle, or center\n",
    "(1 point each)"
   ]
  },
  {
   "cell_type": "markdown",
   "metadata": {},
   "source": [
    "### ANSWER\n",
    "A:unstable, B: stable, C: unstable, D: unstable  \n",
    "A: saddle , B: nodal sink, C: nodal source, D: spiral source"
   ]
  },
  {
   "cell_type": "markdown",
   "metadata": {},
   "source": [
    "### 4) (5 Points) A one dimensional system can have two stable equilibria but no unstable equilibria.\n",
    "\n",
    "a. True or False.\n",
    "\n",
    "b. Justify your answer with a plot. "
   ]
  },
  {
   "cell_type": "markdown",
   "metadata": {},
   "source": [
    "### ANSWER\n",
    "\n",
    "a. False \n",
    "\n",
    "b. if a 1-d system has two equilbrium points they must be separated by an unstable equilbrium \n",
    "\n",
    "------>---------o----------<-----------o------------<-------------"
   ]
  },
  {
   "cell_type": "markdown",
   "metadata": {},
   "source": [
    "### 5) (6 Points) A friend tells you that they are trying to simplify some 1D models to simpler forms. In particular, they have 𝑉̇ 𝑣𝑠. 𝑉 diagrams of the following systems \n",
    "\n",
    "Which of these simplifications are valid? Justify your answer. (2 Points per plot set)"
   ]
  },
  {
   "cell_type": "markdown",
   "metadata": {},
   "source": [
    "### ANSWER\n",
    "\n",
    "1. Yes, they are topologically equivalent \n",
    "\n",
    "2.  No, they are not topologically equivalent, different # of equilibrium \n",
    "\n",
    "3. Yes, they are topologically equivalent "
   ]
  },
  {
   "cell_type": "markdown",
   "metadata": {},
   "source": [
    "### 6) (5 Points) In training a neural network to recognize binding sites for COVID 19, a PI at a lab thinks that the network should perfectly fit the example data they have provided so that they can use it on other data. Do you agree with the PI’s assessment? Why? "
   ]
  },
  {
   "cell_type": "markdown",
   "metadata": {},
   "source": [
    "### ANSWER\n",
    "\n",
    "No, if the network perfectly fits the example data then the data cannot be used on other data, overtraining because it cannot generalize because it cannot work very well "
   ]
  },
  {
   "cell_type": "markdown",
   "metadata": {},
   "source": [
    "### 7) (6 Points) Consider the figure below. Assume all synapses are equally weighted. Given input from a visual scene, what might the output from the interneurons look like (e.g. what visual features might this arrangement highlight)? Explain why. A conceptual answer is fine – no math needed. "
   ]
  },
  {
   "cell_type": "markdown",
   "metadata": {},
   "source": [
    "### ANSWER\n",
    "\n",
    "If each photoreceptor cell was only able to provide a singular axon with excitatory response, the output from the interneurons would only provide segments of an image rather than a complete image, accentuates edges \n",
    "\n"
   ]
  },
  {
   "cell_type": "markdown",
   "metadata": {},
   "source": [
    "## 8 is on paper"
   ]
  },
  {
   "cell_type": "markdown",
   "metadata": {},
   "source": [
    "## 9 is on paper"
   ]
  },
  {
   "cell_type": "markdown",
   "metadata": {},
   "source": [
    "## 10 is on paper"
   ]
  },
  {
   "cell_type": "markdown",
   "metadata": {},
   "source": [
    "### 11) (20 Points) The quadratic integrate and fire model discussed in class can be written as follows Vdot = I + b + V^2 if V>Vthresh, then reset V to Vreset where I  is an injected current, and b is related to the resting potential. With b = -1, Vthresh =3, and Vreset = -2 using the attached starter code and Euler’s method,\n",
    "\n",
    "a. Numerically solve the equation for 𝐼 = 0, and 𝑉(0) = 0 (3 Points)\n",
    "\n",
    "b. What initial condition is required to generate an action potential in the absence of an\n",
    "injected current? (2 Points)\n",
    "\n",
    "c. Numerically solve the equation for an initial condition that generates an action potential in\n",
    "the absence of an injected current (3 Points)\n",
    "\n",
    "d. With b = -1, Vthresh =3, and Vreset = -2, is there any initial condition 𝑉(0) for which the system can generate sustained action potentials? Why or why not? (2 Points)\n",
    "\n",
    "e. Assuming that the injected current 𝐼 is constant, what condition must 𝐼 meet for the system\n",
    "to generate repeated action potentials, regardless of the initial conditions? (2 Points)\n",
    "\n",
    "f. Numerically solve equations for a current that generates repeated action potentials.\n",
    "Assume for this part that the initial condition is 𝑉(0) = 0 (3 Points)\n",
    "\n",
    "g. Plot the bifurcation diagram of the system. Label the stable and unstable branches (5\n",
    "Points)\n",
    "\n",
    "\n",
    "For each numerical solution you are asked for (there are 3 of them), turn in a solution curve. For\n",
    "some of the other questions, you may wish to consider using a dV/dt vs  𝑉 plot to help you figure out\n",
    "and/or justify your answer. Also, turn in your code, as this may help me to give you partial credit if\n",
    "needed. Comment your code so I can see what is going on. "
   ]
  },
  {
   "cell_type": "code",
   "execution_count": 2,
   "metadata": {},
   "outputs": [
    {
     "data": {
      "text/plain": [
       "Text(0.5,1,'Solution Curve')"
      ]
     },
     "execution_count": 2,
     "metadata": {},
     "output_type": "execute_result"
    },
    {
     "data": {
      "image/png": "[encoded data removed]",
      "text/plain": [
       "<Figure size 432x288 with 1 Axes>"
      ]
     },
     "metadata": {
      "needs_background": "light"
     },
     "output_type": "display_data"
    }
   ],
   "source": [
    "#a\n",
    "tspan = np.linspace(0,10,101)\n",
    "v_reset = -2\n",
    "v_thresh = 3\n",
    "init_cond = 0\n",
    "istim = 0\n",
    "b = -1\n",
    "\n",
    "dt = 0.1\n",
    "num_times = len(tspan)\n",
    "v_values = np.zeros(num_times)\n",
    "Vmaxes = np.zeros(num_times)\n",
    "v_values[0] = init_cond\n",
    "\n",
    "for i in range((num_times)-1):\n",
    "    dV = istim + b + (v_values[i])**2\n",
    "    v_values[i+1] = v_values[i] + dt*dV\n",
    "    if v_values[i+1] >= v_thresh:\n",
    "        v_values[i+1] = v_reset\n",
    "        \n",
    "py.plot(tspan,v_values)\n",
    "py.xlabel('Time')\n",
    "py.ylabel('Voltage')\n",
    "py.xlim([0,10])\n",
    "py.title('Solution Curve')"
   ]
  },
  {
   "cell_type": "markdown",
   "metadata": {},
   "source": [
    "b. V(0) > 1"
   ]
  },
  {
   "cell_type": "code",
   "execution_count": 3,
   "metadata": {},
   "outputs": [
    {
     "data": {
      "text/plain": [
       "Text(0.5,1,'Solution Curve')"
      ]
     },
     "execution_count": 3,
     "metadata": {},
     "output_type": "execute_result"
    },
    {
     "data": {
      "image/png": "[encoded data removed]",
      "text/plain": [
       "<Figure size 432x288 with 1 Axes>"
      ]
     },
     "metadata": {
      "needs_background": "light"
     },
     "output_type": "display_data"
    }
   ],
   "source": [
    "#QUESTION C\n",
    "tspan = np.linspace(0,10,101)\n",
    "v_reset = -2\n",
    "v_thresh = 3\n",
    "init_cond = 1.1\n",
    "istim = 0\n",
    "b = -1\n",
    "\n",
    "dt = 0.1\n",
    "num_times = len(tspan)\n",
    "v_values = np.zeros(num_times)\n",
    "Vmaxes = np.zeros(num_times)\n",
    "v_values[0] = init_cond\n",
    "\n",
    "for i in range((num_times)-1):\n",
    "    dV = istim + b + (v_values[i])**2\n",
    "    v_values[i+1] = v_values[i] + dt*dV\n",
    "    if v_values[i+1] >= v_thresh:\n",
    "        v_values[i+1] = v_reset\n",
    "        \n",
    "py.plot(tspan,v_values)\n",
    "py.xlabel('Time')\n",
    "py.ylabel('Voltage')\n",
    "py.xlim([0,10])\n",
    "py.title('Solution Curve')"
   ]
  },
  {
   "cell_type": "markdown",
   "metadata": {},
   "source": [
    "d. No because our system's first action potential never reaches the voltage threshold and therefore is never reset to be able to fire another action potential "
   ]
  },
  {
   "cell_type": "markdown",
   "metadata": {},
   "source": [
    "e. |I| must be greater than |b|, where the system bifurcates"
   ]
  },
  {
   "cell_type": "code",
   "execution_count": 4,
   "metadata": {},
   "outputs": [
    {
     "data": {
      "text/plain": [
       "Text(0.5,1,'Solution Curve')"
      ]
     },
     "execution_count": 4,
     "metadata": {},
     "output_type": "execute_result"
    },
    {
     "data": {
      "image/png": "[encoded data removed]",
      "text/plain": [
       "<Figure size 432x288 with 1 Axes>"
      ]
     },
     "metadata": {
      "needs_background": "light"
     },
     "output_type": "display_data"
    }
   ],
   "source": [
    "#QUESTION F\n",
    "tspan = np.linspace(0,10,101)\n",
    "v_reset = -2\n",
    "v_thresh = 3\n",
    "init_cond = 0\n",
    "istim = 1.2\n",
    "b = -1\n",
    "\n",
    "dt = 0.1\n",
    "num_times = len(tspan)\n",
    "v_values = np.zeros(num_times)\n",
    "Vmaxes = np.zeros(num_times)\n",
    "v_values[0] = init_cond\n",
    "dV_values_1 = []\n",
    "for i in range((num_times)-1):\n",
    "    dV = istim + b + (v_values[i])**2\n",
    "    dV_values_1.append(dV)\n",
    "    v_values[i+1] = v_values[i] + dt*dV\n",
    "    if v_values[i+1] >= v_thresh:\n",
    "        v_values[i+1] = v_reset\n",
    "        \n",
    "py.plot(tspan,v_values)\n",
    "py.xlabel('Time')\n",
    "py.ylabel('Voltage')\n",
    "py.xlim([0,10])\n",
    "py.title('Solution Curve')"
   ]
  },
  {
   "cell_type": "code",
   "execution_count": 80,
   "metadata": {},
   "outputs": [
    {
     "name": "stdout",
     "output_type": "stream",
     "text": [
      "Orange = unstable, Blue = stable\n"
     ]
    },
    {
     "data": {
      "image/png": "[encoded data removed]",
      "text/plain": [
       "<Figure size 432x288 with 1 Axes>"
      ]
     },
     "metadata": {
      "needs_background": "light"
     },
     "output_type": "display_data"
    }
   ],
   "source": [
    "#G\n",
    "\n",
    "b = -1\n",
    "vrange = np.linspace(-5,5,101)\n",
    "I = -(vrange)**2 - b\n",
    "\n",
    "stable_i = []\n",
    "stable_v = []\n",
    "unstable_i = []\n",
    "unstable_v = []\n",
    "\n",
    "current = 0 \n",
    "dv = current + b +vrange**2\n",
    "\n",
    "for i in range(len(vrange)): \n",
    "    if -2*vrange[i] > 0: \n",
    "        stable_v.append(vrange[i])\n",
    "        stable_i.append(I[i])\n",
    "    else: \n",
    "        unstable_v.append(vrange[i])\n",
    "        unstable_i.append(I[i])\n",
    "        \n",
    "py.xlabel('Current, I')\n",
    "py.ylabel('Voltage, V')\n",
    "py.title('Solution Curve')\n",
    "plt.scatter(stable_i,stable_v)\n",
    "plt.scatter(unstable_i,unstable_v)\n",
    "\n",
    "print('Orange = unstable, Blue = stable')\n"
   ]
  },
  {
   "cell_type": "markdown",
   "metadata": {},
   "source": [
    "### 12) (15 Points) Consider the following artificial neural network with the following weights, activation functions, and input patterns. "
   ]
  },
  {
   "cell_type": "markdown",
   "metadata": {},
   "source": [
    "### Pattern 2,4,6,7 all fire"
   ]
  },
  {
   "cell_type": "code",
   "execution_count": 120,
   "metadata": {},
   "outputs": [
    {
     "name": "stdout",
     "output_type": "stream",
     "text": [
      "0.9999749952317367\n"
     ]
    }
   ],
   "source": [
    "w11 = -0.7648;\n",
    "w12 = -1.4224;\n",
    "w13 = -0.1774; \n",
    "w21 = -1.4023; \n",
    "w22 = 0.4882; \n",
    "w23 = -0.1774;\n",
    "v11 = -0.8045; \n",
    "v12 = 0.6966;\n",
    "\n",
    "w1 = np.array([[w11, w12, w13], [w21, w22, w23]])\n",
    "w2 = np.array([v11, v12])\n",
    "\n",
    "\n",
    "p = np.array([1, 1, 1])\n",
    "\n",
    "u1 = w1.dot(p)  \n",
    "\n",
    "sigma1 = [0,0]\n",
    "\n",
    "sigma1[0] = 1 / (1+math.exp(-u1[0]))\n",
    "sigma1[1] = 1 / (1+math.exp(-u1[1]))\n",
    "\n",
    "u2 = w2.dot(sigma1)\n",
    "\n",
    "sigma2 = 1 / (1+math.exp(-100*u2)); \n",
    "\n",
    "print(sigma2)\n",
    "\n",
    "\n",
    "# p = np.array([1, 0, 0]) sigma2 = 7.528088548334158e-06 (0)\n",
    "# p = np.array([0, 1, 0]) sigma2 = 0.9999999999989011    (1)\n",
    "# p = np.array([0, 0, 1]) sigma2 = 0.007262699000678211  (0)\n",
    "# p = np.array([1, 1, 0]) sigma2 = 0.9999926156579974    (1)\n",
    "# p = np.array([1, 0, 1]) sigma2 = 2.341464625697766e-05 (0)\n",
    "# p = np.array([0, 1, 1]) sigma2 = 0.9999999999974196    (1)\n",
    "# p = np.array([1, 1, 1]) sigma2 = 0.9999749952317367    (1)"
   ]
  },
  {
   "cell_type": "code",
   "execution_count": null,
   "metadata": {},
   "outputs": [],
   "source": []
  }
 ],
 "metadata": {
  "kernelspec": {
   "display_name": "Python 3",
   "language": "python",
   "name": "python3"
  },
  "language_info": {
   "codemirror_mode": {
    "name": "ipython",
    "version": 3
   },
   "file_extension": ".py",
   "mimetype": "text/x-python",
   "name": "python",
   "nbconvert_exporter": "python",
   "pygments_lexer": "ipython3",
   "version": "3.7.0"
  }
 },
 "nbformat": 4,
 "nbformat_minor": 2
}
