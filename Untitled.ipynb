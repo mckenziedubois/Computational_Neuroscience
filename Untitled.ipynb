{
 "cells": [
  {
   "cell_type": "code",
   "execution_count": 2,
   "metadata": {},
   "outputs": [
    {
     "ename": "SyntaxError",
     "evalue": "invalid syntax (<ipython-input-2-0a833487fb0a>, line 1)",
     "output_type": "error",
     "traceback": [
      "\u001b[0;36m  File \u001b[0;32m\"<ipython-input-2-0a833487fb0a>\"\u001b[0;36m, line \u001b[0;32m1\u001b[0m\n\u001b[0;31m    mat = [[1 0 0 0 0]; [0.2 0.6 0.2 0 0]; [0 0.2 0.6 0.2 0]; [ 0 0 0.2 0.6 0.2 ]; [ 0 0 0 0 1]];\u001b[0m\n\u001b[0m              ^\u001b[0m\n\u001b[0;31mSyntaxError\u001b[0m\u001b[0;31m:\u001b[0m invalid syntax\n"
     ]
    }
   ],
   "source": [
    "mat = [[1,0,0,0,0]\n",
    "       [0.2,0.6,0.2,0,0]\n",
    "       [0,0.2,0.6,0.2,0]\n",
    "       [ 0,0 ,0.2, 0.6, 0.2, ]\n",
    "       [ 0, 0 ,0 0 1]]\n",
    "vec = [0,0.2 0.2 0.3 0.3]"
   ]
  },
  {
   "cell_type": "code",
   "execution_count": null,
   "metadata": {},
   "outputs": [],
   "source": [
    "function markov_propagate(mat, vec, num_steps, precision);\n",
    "\n",
    "state1toplot = zeros(1,num_steps)\n",
    "state2toplot = zeros(1,num_steps)\n",
    "state3toplot = zeros(1,num_steps)\n",
    "state4toplot = zeros(1,num_steps)\n",
    "state5toplot = zeros(1,num_steps)\n",
    "\n",
    "state1toplot(1) = vec(1)\n",
    "state2toplot(1) = vec(2)\n",
    "state3toplot(1) = vec(3)\n",
    "state4toplot(1) = vec(4)\n",
    "state5toplot(1) = vec(5)\n",
    "\n",
    "for i=2:num_steps;\n",
    "    pN = vec*(mat^i)\n",
    "    if pN =~ vec\n",
    "        state1toplot(i) = pN(1)\n",
    "        state2toplot(i) = pN(2)\n",
    "        state3toplot(i) = pN(3)\n",
    "        state4toplot(i) = pN(4)\n",
    "        state5toplot(i) = pN(5)\n",
    "    else\n",
    "        continue \n",
    "    end\n",
    "end\n",
    "\n",
    "plot(state1toplot);\n",
    "hold on\n",
    "plot(state2toplot);\n",
    "hold on\n",
    "plot(state3toplot);\n",
    "hold on\n",
    "plot(state4toplot);\n",
    "hold on\n",
    "plot(state5toplot);\n",
    "\n",
    "\n",
    "legend('State 1', 'State 2','State 3','State 4','State 5')\n",
    "xlabel('Time Step')\n",
    "ylabel('Probability')"
   ]
  }
 ],
 "metadata": {
  "kernelspec": {
   "display_name": "Python 3",
   "language": "python",
   "name": "python3"
  },
  "language_info": {
   "codemirror_mode": {
    "name": "ipython",
    "version": 3
   },
   "file_extension": ".py",
   "mimetype": "text/x-python",
   "name": "python",
   "nbconvert_exporter": "python",
   "pygments_lexer": "ipython3",
   "version": "3.7.0"
  }
 },
 "nbformat": 4,
 "nbformat_minor": 2
}
