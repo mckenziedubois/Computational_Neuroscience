{
 "cells": [
  {
   "cell_type": "code",
   "execution_count": 1,
   "metadata": {},
   "outputs": [],
   "source": [
    "import pylab as py\n",
    "import numpy as np\n",
    "import math\n",
    "import matplotlib.pyplot as plt\n",
    "from scipy.integrate import odeint\n",
    "import matplotlib.patches as mpatches\n"
   ]
  },
  {
   "cell_type": "markdown",
   "metadata": {},
   "source": [
    "## Initial Conditions"
   ]
  },
  {
   "cell_type": "code",
   "execution_count": 2,
   "metadata": {},
   "outputs": [],
   "source": [
    "c = 10 \n",
    "gL = 19\n",
    "eL = -67\n",
    "gNa = 74\n",
    "Vstar = 1.5\n",
    "k = 16\n",
    "eNa = 60\n",
    "I = 6\n",
    "step1 = 1\n",
    "step01 = 0.1\n",
    "step001 = 0.001"
   ]
  },
  {
   "cell_type": "code",
   "execution_count": 3,
   "metadata": {},
   "outputs": [],
   "source": [
    "def dVdt(v): \n",
    "    m = (1/(1+math.exp((Vstar-v)/k)))\n",
    "    dVdt = (I-(gL*(v-eL))-((gNa*m)*(v-eNa)))/c\n",
    "    \n",
    "    return dVdt"
   ]
  },
  {
   "cell_type": "markdown",
   "metadata": {},
   "source": [
    "y = (6-(19*(x+67))-((74*(1/(1+e^((1.5-x)/16)))*(x-60)))/16"
   ]
  },
  {
   "cell_type": "markdown",
   "metadata": {},
   "source": [
    "## Euler's Method"
   ]
  },
  {
   "cell_type": "code",
   "execution_count": 16,
   "metadata": {},
   "outputs": [
    {
     "name": "stdout",
     "output_type": "stream",
     "text": [
      "[0, 8.490136507227218, 17.363886774025524, 24.407300446533387, 28.359561133344148, 30.032985527379832, 30.64135900061688, 30.849117596193967, 30.918493975707815, 30.94148496597296, 30.94908475721794, 30.951594797343944, 30.95242357692681, 30.95269720306877, 30.952787539509977, 30.952817363381897, 30.952827209468243, 30.952830460062632, 30.95283153321593, 30.952831887507404, 30.952832004473397, 30.95283204308862, 30.95283205583707, 30.95283206004585, 30.95283206143534, 30.952832061894068, 30.952832062045513, 30.952832062095506, 30.952832062112012, 30.952832062117462, 30.952832062119263, 30.952832062119857, 30.952832062120052, 30.95283206212012, 30.95283206212014, 30.95283206212015, 30.952832062120148, 30.952832062120148, 30.952832062120148, 30.952832062120148, 30.952832062120148, 30.952832062120148, 30.952832062120148, 30.952832062120148, 30.952832062120148, 30.952832062120148, 30.952832062120148, 30.952832062120148, 30.952832062120148, 30.952832062120148, 30.952832062120148, 30.952832062120148, 30.952832062120148, 30.952832062120148, 30.952832062120148, 30.952832062120148, 30.952832062120148, 30.952832062120148, 30.952832062120148, 30.952832062120148, 30.952832062120148, 30.952832062120148, 30.952832062120148, 30.952832062120148, 30.952832062120148, 30.952832062120148, 30.952832062120148, 30.952832062120148, 30.952832062120148, 30.952832062120148, 30.952832062120148, 30.952832062120148, 30.952832062120148, 30.952832062120148, 30.952832062120148, 30.952832062120148, 30.952832062120148, 30.952832062120148, 30.952832062120148, 30.952832062120148, 30.952832062120148, 30.952832062120148, 30.952832062120148, 30.952832062120148, 30.952832062120148, 30.952832062120148, 30.952832062120148, 30.952832062120148, 30.952832062120148, 30.952832062120148, 30.952832062120148, 30.952832062120148, 30.952832062120148, 30.952832062120148, 30.952832062120148, 30.952832062120148, 30.952832062120148, 30.952832062120148, 30.952832062120148, 30.952832062120148, 30.952832062120148]\n"
     ]
    }
   ],
   "source": [
    "vEuler01 = ([0]*101)\n",
    "vEuler001 = ([0]*1001)\n",
    "\n",
    "#Euler's method cannot be calculated given step = 1\n",
    "\n",
    "for i in range(len(vEuler01)-1): \n",
    "    vEuler01[i+1] = vEuler01[i] + step01*dVdt(vEuler01[i])\n",
    "\n",
    "    \n",
    "print(vEuler01)\n",
    "for i in range(len(vEuler001)-1):\n",
    "    vEuler001[i+1] = vEuler001[i] + step001*dVdt(vEuler001[i])\n"
   ]
  },
  {
   "cell_type": "markdown",
   "metadata": {},
   "source": [
    "## Runge Kutta"
   ]
  },
  {
   "cell_type": "code",
   "execution_count": 15,
   "metadata": {},
   "outputs": [],
   "source": [
    "vRunge = ([0]*11)\n",
    "vRunge1= ([0]*101)\n",
    "vRunge2= ([0]*1001)\n",
    "\n",
    "for i in range(len(vRunge)-1): \n",
    "    k1 = step1*dVdt(vRunge[i])\n",
    "    k2 = step1*dVdt(vRunge[i]+(k1/2))\n",
    "    k3 = step1*dVdt(vRunge[i]+(k2/2))\n",
    "    k4 = step1*(dVdt(vRunge[i]+k3))\n",
    "    vRunge[i+1] = vRunge[i] + (1/6)*(k1+(2*k2)+(2*k3)+k4)\n",
    "\n",
    "for i in range(len(vRunge1)-1):    \n",
    "    k11 = step01*(dVdt(vRunge1[i]))\n",
    "    k22 = step01*(dVdt(vRunge1[i]+(k11/2)))\n",
    "    k33 = step01*(dVdt(vRunge1[i]+(k22/2)))\n",
    "    k44 = step01*(dVdt(vRunge1[i]+k33))\n",
    "    vRunge1[i+1] = vRunge1[i] + (1/6)*(k11+(2*k22)+(2*k33)+k44)\n",
    "  \n",
    "for i in range(len(vRunge2)-1): \n",
    "    k111 = step001*(dVdt(vRunge2[i]))\n",
    "    k222 = step001*(dVdt(vRunge2[i]+(k111/2)))\n",
    "    k333 = step001*(dVdt(vRunge2[i]+(k222/2)))\n",
    "    k444 = step001*(dVdt(vRunge2[i]+k333))\n",
    "    vRunge2[i+1] = vRunge2[i] + (1/6)*(k111+(2*k222)+(2*k333)+k444)"
   ]
  },
  {
   "cell_type": "markdown",
   "metadata": {},
   "source": [
    "## ode45"
   ]
  },
  {
   "cell_type": "code",
   "execution_count": 6,
   "metadata": {},
   "outputs": [],
   "source": [
    "def dVdt_t(v,t): \n",
    "    m = (1/(1+math.exp((Vstar-v)/k)))\n",
    "    dVdt = (I-(gL*(v-eL))-((gNa*m)*(v-eNa)))/c\n",
    "    \n",
    "    return dVdt"
   ]
  },
  {
   "cell_type": "code",
   "execution_count": 7,
   "metadata": {},
   "outputs": [],
   "source": [
    "xs = np.linspace(0,10,11)\n",
    "xss = np.linspace(0,10,101)\n",
    "xsss = np.linspace(0,10,1001)\n",
    "yode = odeint(dVdt_t,0,xs)\n",
    "yode1 = odeint(dVdt_t,0,xss)\n",
    "yode2 = odeint(dVdt_t,0,xsss)"
   ]
  },
  {
   "cell_type": "code",
   "execution_count": 8,
   "metadata": {},
   "outputs": [],
   "source": [
    "#Graphing info\n",
    "blue_patch = mpatches.Patch(color='blue', label='Runge Kutta')\n",
    "green_patch = mpatches.Patch(color='green', label='ODE45')\n",
    "red_patch = mpatches.Patch(color='red', label='Eulers Method')"
   ]
  },
  {
   "cell_type": "markdown",
   "metadata": {},
   "source": [
    "## Euler’s method has failed "
   ]
  },
  {
   "cell_type": "code",
   "execution_count": 9,
   "metadata": {},
   "outputs": [
    {
     "data": {
      "text/plain": [
       "<matplotlib.legend.Legend at 0x151a52f160>"
      ]
     },
     "execution_count": 9,
     "metadata": {},
     "output_type": "execute_result"
    },
    {
     "data": {
      "image/png": "[encoded data removed]",
      "text/plain": [
       "<Figure size 432x288 with 1 Axes>"
      ]
     },
     "metadata": {
      "needs_background": "light"
     },
     "output_type": "display_data"
    }
   ],
   "source": [
    "py.plot(vRunge1,'b')\n",
    "py.plot(yode,'g')\n",
    "plt.xlim(-1,20)\n",
    "py.title('step = 1')\n",
    "plt.legend(handles=[blue_patch,green_patch,red_patch])"
   ]
  },
  {
   "cell_type": "markdown",
   "metadata": {},
   "source": [
    "## All methods agree with eachother"
   ]
  },
  {
   "cell_type": "code",
   "execution_count": 10,
   "metadata": {},
   "outputs": [
    {
     "data": {
      "text/plain": [
       "<matplotlib.legend.Legend at 0x151a665dd8>"
      ]
     },
     "execution_count": 10,
     "metadata": {},
     "output_type": "execute_result"
    },
    {
     "data": {
      "image/png": "[encoded data removed]",
      "text/plain": [
       "<Figure size 432x288 with 1 Axes>"
      ]
     },
     "metadata": {
      "needs_background": "light"
     },
     "output_type": "display_data"
    }
   ],
   "source": [
    "py.plot(vEuler01,'r')\n",
    "py.plot(vRunge1,'b')\n",
    "py.plot(yode1,'g')\n",
    "plt.xlim(-1,80)\n",
    "py.title('step = 0.1')\n",
    "plt.legend(handles=[blue_patch,green_patch,red_patch])"
   ]
  },
  {
   "cell_type": "markdown",
   "metadata": {},
   "source": [
    "## Euler’s method and Runge-Kutta have failed"
   ]
  },
  {
   "cell_type": "code",
   "execution_count": 11,
   "metadata": {},
   "outputs": [
    {
     "data": {
      "text/plain": [
       "<matplotlib.legend.Legend at 0x151a750dd8>"
      ]
     },
     "execution_count": 11,
     "metadata": {},
     "output_type": "execute_result"
    },
    {
     "data": {
      "image/png": "[encoded data removed]",
      "text/plain": [
       "<Figure size 432x288 with 1 Axes>"
      ]
     },
     "metadata": {
      "needs_background": "light"
     },
     "output_type": "display_data"
    }
   ],
   "source": [
    "py.plot(vEuler001,'r')\n",
    "py.plot(vRunge2,'b')\n",
    "py.plot(yode2,'g')\n",
    "plt.xlim(-1,100)\n",
    "py.title('step = 0.001')\n",
    "plt.legend(handles=[blue_patch,green_patch,red_patch])"
   ]
  },
  {
   "cell_type": "code",
   "execution_count": null,
   "metadata": {},
   "outputs": [],
   "source": []
  },
  {
   "cell_type": "code",
   "execution_count": null,
   "metadata": {},
   "outputs": [],
   "source": []
  },
  {
   "cell_type": "code",
   "execution_count": null,
   "metadata": {},
   "outputs": [],
   "source": []
  }
 ],
 "metadata": {
  "kernelspec": {
   "display_name": "Python 3",
   "language": "python",
   "name": "python3"
  },
  "language_info": {
   "codemirror_mode": {
    "name": "ipython",
    "version": 3
   },
   "file_extension": ".py",
   "mimetype": "text/x-python",
   "name": "python",
   "nbconvert_exporter": "python",
   "pygments_lexer": "ipython3",
   "version": "3.7.0"
  }
 },
 "nbformat": 4,
 "nbformat_minor": 2
}
